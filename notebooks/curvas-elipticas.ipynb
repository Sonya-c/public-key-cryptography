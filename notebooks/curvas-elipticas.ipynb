{
 "cells": [
  {
   "cell_type": "markdown",
   "metadata": {},
   "source": [
    "# Curvas elípticas"
   ]
  },
  {
   "cell_type": "code",
   "execution_count": 4,
   "metadata": {},
   "outputs": [],
   "source": [
    "import math\n",
    "from typing import Tuple"
   ]
  },
  {
   "cell_type": "code",
   "execution_count": 5,
   "metadata": {},
   "outputs": [],
   "source": [
    "def egcd(x: int, y: int) -> Tuple[int, int, int]:\n",
    "    \"\"\"Algoritmo de euclides extendido\n",
    "\n",
    "    Args:\n",
    "        x (int)\n",
    "        y (int)\n",
    "\n",
    "    Returns:\n",
    "        (r: int, s:int, t:int) tal que s*x + t*y = r = mdc(x, y)\n",
    "    \"\"\"\n",
    "    r2, r1 = (y, x) if x < y else (x, y)\n",
    "\n",
    "    s1, s2 = 1, 0\n",
    "    t1, t2 = 0, 1\n",
    "\n",
    "    while r2 != 0: \n",
    "        q = r1 // r2\n",
    "        r = r1 % r2 \n",
    "\n",
    "        r1, s1, t1, r2, s2, t2 = r2, s2, t2, r, s1 - s2*q, t1 - t2*q\n",
    "\n",
    "    return r1, s1, t1\n",
    "\n",
    "def modinv(a, b):\n",
    "\n",
    "    # El pequeño teorema de ferman \n",
    "    # Si mcd(a, p) = 1\n",
    "    # a ^ p - 1 = 1 mod p     \n",
    "    r, s, _ = egcd(a, b)\n",
    "\n",
    "    if r != 1:\n",
    "        raise Exception(\"Inverse doesn't exist\")\n",
    "    \n",
    "    return (s % b + b) % b\n",
    "\n",
    "def inv(y, p):\n",
    "    return abs(y) * (p - 1) % p"
   ]
  },
  {
   "cell_type": "code",
   "execution_count": 6,
   "metadata": {},
   "outputs": [],
   "source": [
    "class EllipticCurve:\n",
    "    \n",
    "    def __init__(self, a: int, b: int, p: int, G: Tuple[int, int] = None) -> None:\n",
    "        self.a = a\n",
    "        self.b = b\n",
    "        self.p = p \n",
    "        self.I = (None, None)\n",
    "        self.G = G \n",
    "\n",
    "        assert(((4 * a ** 3) + (27 * b ** 2)) % p != 0), \"No es una curva valida\"\n",
    "    \n",
    "    \n",
    "    def __contains__(self, point: Tuple[int, int]) -> bool:\n",
    "        x, y = point\n",
    "\n",
    "        if x == y == None: return True\n",
    "        return pow(y, 2, self.p) == (x**3 + self.a * x + self.b) % self.p\n",
    "\n",
    "\n",
    "    def __iter__(self):\n",
    "        yield self.I\n",
    "        \n",
    "        for x in range(0, self.p):\n",
    "            for y in range(0, self.p):\n",
    "                if (x, y) in self:\n",
    "                    yield (x, y)\n",
    "                    y_inv = y * (self.p - 1) % self.p\n",
    "                    if y_inv != y:\n",
    "                        yield (x, y_inv)\n",
    "                    break\n",
    "    \n",
    "\n",
    "    def __len__(self):\n",
    "        return len([p for p in self])\n",
    "    \n",
    "\n",
    "    def hasse(self):\n",
    "        \"\"\"Teorema de Hasse. Define el intervalo \n",
    "\n",
    "        p + 1 - 2 raiz(p), p + 1+ 2*raiz(p)\n",
    "        \"\"\"\n",
    "\n",
    "        lower = self.p + 1 - 2 * math.sqrt(self.p)\n",
    "        upper = self.p + 1 + 2 * math.sqrt(self.p)\n",
    "        \n",
    "        return lower <= len(self) <= upper, (lower, upper)\n",
    "\n",
    "    def add(self, P: Tuple[int, int], Q: Tuple[int, int] = None) -> Tuple[int, int]:\n",
    "        \"\"\"Adición de puntos en la curva P-256.\"\"\"\n",
    "        Q = P if Q is None else Q\n",
    "        \n",
    "        if not (P in self and Q in self):\n",
    "            raise ValueError(\"One or more points are not on the curve\")\n",
    "\n",
    "        # Identidad \n",
    "        if P == (None, None):  # P es el punto en el infinito\n",
    "            return Q\n",
    "        \n",
    "        if Q == (None, None):  # Q es el punto en el infinito\n",
    "            return P \n",
    "\n",
    "        x1, y1 = P\n",
    "        x2, y2 = Q\n",
    "\n",
    "        # Inverso aditivo: P + (-P) = I\n",
    "        if x1 == x2 and (y1 == -y2 % self.p):\n",
    "            return (None, None)  # Retorna el punto en el infinito\n",
    "        \n",
    "        # Pendiente de la recta que pasa por P y Q\n",
    "        if x1 != x2:\n",
    "            # Caso general: P + Q\n",
    "            s = ((y2 - y1) * pow(x2 - x1, -1, self.p)) % self.p\n",
    "            x3 = (s ** 2 - x1 - x2) % self.p\n",
    "        else: \n",
    "            # Caso especial: P = Q\n",
    "            s = ((3 * x1 ** 2 + self.a) * pow(2 * y1, -1, self.p)) % self.p\n",
    "            x3 = (s ** 2 - 2 * x1) % self.p \n",
    "            \n",
    "        y3 = (s * (x1 - x3) - y1) % self.p \n",
    "\n",
    "        return (x3, y3)\n",
    "\n",
    "    def mult(self, k: int, P: Tuple[int, int]) -> Tuple[int, int]:\n",
    "        Q = P if k >= 0 else (P[0], inv(P[1]))\n",
    "        # Inicialización de T\n",
    "        T = Q if k & 1 else self.I\n",
    "        k >>= 1\n",
    "\n",
    "        # Multiplicación a escalar\n",
    "        while k:\n",
    "            Q = self.add(Q, Q)\n",
    "            if k & 1:\n",
    "                T = self.add(T, Q)\n",
    "            k >>= 1\n",
    "\n",
    "        return T"
   ]
  },
  {
   "cell_type": "code",
   "execution_count": 7,
   "metadata": {},
   "outputs": [
    {
     "data": {
      "text/plain": [
       "(True, (19.22967038573099, 40.77032961426901))"
      ]
     },
     "execution_count": 7,
     "metadata": {},
     "output_type": "execute_result"
    }
   ],
   "source": [
    "p = 29\n",
    "a = 4\n",
    "b = 20 \n",
    "\n",
    "ec = EllipticCurve(a, b, p)\n",
    "\n",
    "points = [\n",
    "    (None, None), (0, 7), (0, 22), (1, 5), (1, 24), (2, 6), (2, 23), (3, 1), (3, 28), (4, 10), (4, 19), (5, 7), (5, 22), (6, 12), (6, 17), (8, 10), (8, 19), (10, 4), (10, 25), (13, 6), (13, 23), (14, 6), (14, 23), (15, 2), (15, 27), (16, 2), (16, 27), (17, 10), (17, 19), (19, 13), (19, 16), (16, 27), (17, 10), (19, 13), (19, 16), (20, 3), (20, 26), (24, 7), (24, 22), (27, 2), (27, 27)\n",
    "]\n",
    "\n",
    "for p in points: \n",
    "    assert(p in ec), f\"Failed for point {p}\" \n",
    "\n",
    "    \n",
    "for p in ec:\n",
    "    assert(p in points), \"Wtf point\"\n",
    "\n",
    "assert(len(ec) == 37)\n",
    "assert(ec.add((1, 5)) == (4, 19))\n",
    "assert(ec.add((1, 5), (20, 3)) == (15, 27))\n",
    "assert(ec.add((1, 5), (1, 24)) == (None, None))\n",
    "\n",
    "ec.hasse() # (30 - 10.7703296143, 30 + 10.7703296143)\n"
   ]
  },
  {
   "cell_type": "code",
   "execution_count": 8,
   "metadata": {},
   "outputs": [],
   "source": [
    "P = (4, 19)\n",
    "T = ec.I \n",
    "T = ec.add(T, P)\n",
    "T = ec.add(T, P)\n",
    "T = ec.add(T, P)"
   ]
  },
  {
   "cell_type": "code",
   "execution_count": 9,
   "metadata": {},
   "outputs": [
    {
     "data": {
      "text/plain": [
       "(True, (109.10895371548081, 154.8910462845192))"
      ]
     },
     "execution_count": 9,
     "metadata": {},
     "output_type": "execute_result"
    }
   ],
   "source": [
    "p = 131\n",
    "a = 50\n",
    "b = 107\n",
    "\n",
    "ec = EllipticCurve(a, b, p)\n",
    "\n",
    "points = [(None, None), (0, 32),(0, 99),(1, 17),(1, 114),(2, 52),(2, 79),(4, 41),(4, 90),(5, 58),(5, 73),(6, 19),(6, 112),(8, 44),(8, 87),(9, 32),(9, 99),(10, 64),(10, 67),(12, 48),(12, 83),(16, 5),(16, 126),(18, 17),(18, 114),(22, 14),(22, 117),(23, 18),(23, 113),(27, 7),(27, 124),(30, 7),(30, 124),(34, 34),(34, 97),(35, 42),(35, 89),(38, 5),(38, 126),(42, 61),(42, 70),(43, 46),(43, 85),(44, 30),(44, 101),(46, 24),(46, 107),(47, 63),(47, 68),(48, 35),(48, 96),(50, 12),(50, 119),(52, 1),(52, 130),(54, 53),(54, 78),(56, 25),(56, 106),(57, 54),(57, 77),(59, 43),(59, 88),(60, 59),(60, 72),(61, 44),(61, 87),(62, 44),(62, 87),(63, 9),(63, 122),(64, 62),(64, 69),(65, 0),(67, 13),(67, 118),(69, 51),(69, 80),(70, 51),(70, 80),(73, 6),(73, 125),(74, 7),(74, 124),(75, 47),(75, 84),(77, 5),(77, 126),(78, 4),(78, 127),(82, 2),(82, 129),(84, 31),(84, 100),(86, 2),(86, 129),(87, 10),(87, 121),(88, 60),(88, 71),(90, 20),(90, 111),(91, 0),(92, 43),(92, 88),(93, 53),(93, 78),(94, 2),(94, 129),(95, 11),(95, 120),(98, 36),(98, 95),(99, 42),(99, 89),(100, 59),(100, 72),(101, 54),(101, 77),(102, 59),(102, 72),(104, 54),(104, 77),(106, 0),(108, 26),(108, 105),(111, 43),(111, 88),(112, 17),(112, 114),(114, 34),(114, 97),(115, 53),(115, 78),(116, 49),(116, 82),(118, 50),(118, 81),(120, 45),(120, 86),(121, 21),(121, 110),(122, 32),(122, 99),(123, 51),(123, 80),(126, 16),(126, 115),(127, 57),(127, 74),(128, 42),(128, 89)]\n",
    "\n",
    "\n",
    "for p in ec:\n",
    "    assert(p in points), f\"wtf point {p}\"\n",
    "\n",
    "for p in points:\n",
    "    assert(p in ec), f\"wtf point {p}\"\n",
    "\n",
    "assert(len(ec) == len(points)), \"Wrong len\"\n",
    "\n",
    "ec.hasse()"
   ]
  },
  {
   "cell_type": "code",
   "execution_count": 10,
   "metadata": {},
   "outputs": [
    {
     "data": {
      "text/plain": [
       "(True, (142.15430403335984, 193.84569596664016))"
      ]
     },
     "execution_count": 10,
     "metadata": {},
     "output_type": "execute_result"
    }
   ],
   "source": [
    "p = 167\n",
    "a = -3\n",
    "b = 64\n",
    "\n",
    "ec = EllipticCurve(a, b, p)\n",
    "\n",
    "points = [(None, None),(0, 8),(0, 159),(1, 79),(1, 88),(2, 20),(2, 147),(4, 28),(4, 139),(5, 72),(5, 95),(9, 76),(9, 91),(10, 52),(10, 115),(14, 42),(14, 125),(15, 80),(15, 87),(19, 55),(19, 112),(21, 54),(21, 113),(24, 17),(24, 150),(26, 19),(26, 148),(27, 36),(27, 131),(30, 33),(30, 134),(31, 6),(31, 161),(32, 2),(32, 165),(34, 45),(34, 122),(36, 55),(36, 112),(40, 22),(40, 145),(41, 15),(41, 152),(53, 73),(53, 94),(56, 50),(56, 117),(57, 65),(57, 102),(61, 57),(61, 110),(62, 8),(62, 159),(66, 17),(66, 150),(69, 82),(69, 85),(70, 62),(70, 105),(71, 81),(71, 86),(72, 39),(72, 128),(77, 17),(77, 150),(79, 7),(79, 160),(83, 63),(83, 104),(84, 0),(85, 83),(85, 84),(86, 60),(86, 107),(90, 29),(90, 138),(91, 5),(91, 162),(92, 16),(92, 151),(94, 83),(94, 84),(98, 77),(98, 90),(99, 56),(99, 111),(101, 29),(101, 138),(104, 47),(104, 120),(105, 8),(105, 159),(107, 26),(107, 141),(111, 48),(111, 119),(112, 55),(112, 112),(113, 57),(113, 110),(117, 56),(117, 111),(118, 56),(118, 111),(119, 62),(119, 105),(120, 16),(120, 151),(122, 16),(122, 151),(124, 41),(124, 126),(128, 67),(128, 100),(133, 21),(133, 146),(135, 25),(135, 142),(138, 12),(138, 155),(140, 1),(140, 166),(143, 29),(143, 138),(144, 18),(144, 149),(145, 62),(145, 105),(151, 58),(151, 109),(154, 54),(154, 113),(155, 83),(155, 84),(157, 51),(157, 116),(159, 54),(159, 113),(160, 57),(160, 110),(161, 37),(161, 130),(162, 11),(162, 156),(163, 43),(163, 124),(165, 79),(165, 88),(166, 20),(166, 147),\n",
    "]\n",
    "\n",
    "for p in ec:\n",
    "    assert(p in points), f\"wtf point {p}\"\n",
    "\n",
    "for p in points:\n",
    "    assert(p in ec), f\"wtf point {p}\"\n",
    "    \n",
    "assert(len(ec) == 150), \"Wrong len\"\n",
    "ec.hasse() # 142.154, 193.846"
   ]
  },
  {
   "cell_type": "markdown",
   "metadata": {},
   "source": [
    "## Curva P256"
   ]
  },
  {
   "cell_type": "code",
   "execution_count": 11,
   "metadata": {},
   "outputs": [],
   "source": [
    "class CurveP256(EllipticCurve):\n",
    "\n",
    "    def __init__(self) -> None:\n",
    "        a = -3 \n",
    "        b = 41058363725152142129326129780047268409114441015993725554835256314039467401291\n",
    "        p = 2**256 - 2**224 + 2**192 + 2**96 - 1\n",
    "        \n",
    "        x = 48439561293906451759052585252797914202762949526041747995844080717082404635286\n",
    "        y = 36134250956749795798585127919587881956611106672985015071877198253568414405109\n",
    "        \n",
    "        G = (x, y)\n",
    "\n",
    "        super().__init__(a, b, p, G)\n",
    "        \n",
    "        self.q = 2**256 - 2**224 + 2**192 - 89188191075325690597107910205041859247 "
   ]
  },
  {
   "cell_type": "code",
   "execution_count": 12,
   "metadata": {},
   "outputs": [],
   "source": [
    "P = (5139147556, 84992513513819837562679639329935059290744880011754896240095105442438501460580)\n",
    "Q = (957, 106068017933963908069108378434410615354534760345589368572553274269533297279953)\n",
    "R = (39147563, 86800512523116406738886579531519493100624547860931014107623369720327567099304)\n",
    "\n",
    "P256 = CurveP256()\n",
    "\n",
    "assert(P256.add(P, Q) == (70080563902474660685014643574954286003305136526954517743428749117055603385364, 102817281760810435925299871406466683251351115534973220072977695964583963694190))\n",
    "\n",
    "\n",
    "assert(P256.mult(17, P) ==   (6767482609142533773727106561141486021988565046507560472655419434998143805142, 111849450923862212349083160889673641820507651447758924512379621060157659132486))\n",
    "\n",
    "assert(P256.add(P, P256.mult(29, Q)) == (85770230561767378375651721422453530671836821484546392654290517587029149330503, 109289525563572793074808101103724966387806510899333588476506211211325308580228))\n",
    "      \n",
    "assert(P256.add(P, P256.add(Q, R)) == (10078325695723211088410985734864258926108196424648752194418952354939491493398, 83162779257944430915141041076225903572090104654488309266745131800763293112040))\n",
    "\n",
    "assert(P256.add(P256.mult(5, P), P256.add(P256.mult(47, Q), P256.mult(131, R))) == (60003140733697602815862847258574814281333745187497680713195857338569721153623, 113621516247140099510908544142253158409830215142911456940902986653313431422677))"
   ]
  },
  {
   "cell_type": "markdown",
   "metadata": {},
   "source": [
    "## Diffie-Hellman "
   ]
  },
  {
   "cell_type": "code",
   "execution_count": 13,
   "metadata": {},
   "outputs": [],
   "source": [
    "import random"
   ]
  },
  {
   "cell_type": "code",
   "execution_count": 17,
   "metadata": {},
   "outputs": [],
   "source": [
    "class DiffieHellman:\n",
    "\n",
    "    def get(self, curve, q):\n",
    "        if (curve.G == None):\n",
    "            raise ValueError(\"La curva no tiene generador.\")\n",
    "        \n",
    "        return self.Alice(curve, q), self.Bob(curve, q)\n",
    "\n",
    "    class Alice: \n",
    "\n",
    "        def __init__(self, curve, q):\n",
    "            self.q = q\n",
    "            self.curve = curve \n",
    "\n",
    "        def send(self, a: int = None):\n",
    "            a = random.randrange(2, self.q - 1) if a == None else a \n",
    "            U = self.curve.mult(a, self.curve.G)\n",
    "            self.a = a \n",
    "            return U\n",
    "\n",
    "        def recive(self, V: Tuple[int, int]):\n",
    "            W = self.curve.mult(self.a, V)\n",
    "            self.W = W \n",
    "    \n",
    "    class Bob:\n",
    "\n",
    "        def __init__(self, curve, q):\n",
    "            self.q = q \n",
    "            self.curve = curve \n",
    "        \n",
    "        def recive(self, U: Tuple[int, int], b: int = None):\n",
    "            b = random.randrange(2, self.q - 1) if b == None else b\n",
    "\n",
    "            V = self.curve.mult(b, self.curve.G)\n",
    "            W = self.curve.mult(b, U)\n",
    "            self.W = W\n",
    "            return V\n",
    "            "
   ]
  },
  {
   "cell_type": "code",
   "execution_count": 20,
   "metadata": {},
   "outputs": [],
   "source": [
    "q = 2**256 - 2**224 + 2**192 - 89188191075325690597107910205041859247 \n",
    "\n",
    "alpha = 8043\n",
    "beta = 66569451221028833605888206012592990107761917366990348285636907733675199640869\n",
    "\n",
    "M = (681515878241, 42867525214630099613645669273136473583026733865738235463867590073359574198973)\n",
    "\n",
    "curve = CurveP256()\n",
    "\n",
    "alice = DiffieHellman.Alice(curve, q)\n",
    "bob = DiffieHellman.Bob(curve, q)\n",
    "\n",
    "U = alice.send()\n",
    "V = bob.recive(U)\n",
    "alice.recive(V)\n",
    "assert(alice.W == bob.W)"
   ]
  },
  {
   "cell_type": "markdown",
   "metadata": {},
   "source": [
    "## ElGamal sobre curvas eliptivas"
   ]
  },
  {
   "cell_type": "code",
   "execution_count": null,
   "metadata": {},
   "outputs": [],
   "source": [
    "import random"
   ]
  },
  {
   "cell_type": "code",
   "execution_count": null,
   "metadata": {},
   "outputs": [],
   "source": [
    "class ElGamal_EllipticCurve:\n",
    "    \n",
    "    def __init__(self, curve: EllipticCurve, q: int = None) -> None:\n",
    "        if (curve.G == None):\n",
    "            raise ValueError(\"La curva no tiene generador.\")\n",
    "\n",
    "        self.curve = curve\n",
    "        self.q = q\n",
    "\n",
    "\n",
    "    def G(self, a = None) -> Tuple[Tuple[int, int], int]:\n",
    "        a = random.randrange(2, self.q) if a == None else a\n",
    "        U = self.curve.mult(a, self.curve.G)\n",
    "        return U, a \n",
    "\n",
    "\n",
    "    def E(self, Pk: Tuple[int, int], M: Tuple[int, int], b: int = None, debug_log: bool = False):\n",
    "        b = random.randrange(2, self.q) if b == None else b\n",
    "        if debug_log: print(f\"beta = {b}\")\n",
    "\n",
    "        V = self.curve.mult(b, self.curve.G)\n",
    "        if debug_log: print(f\"v = {V}\")\n",
    "\n",
    "        W = self.curve.mult(b, Pk)\n",
    "        \n",
    "        C = self.curve.add(M, W)\n",
    "        if debug_log: print(f\"c = {C}\")\n",
    "\n",
    "        return V, C\n",
    "    \n",
    "\n",
    "    def D(self, sk: int, V: int, C: int) -> int:\n",
    "        W = self.curve.mult(sk, V)\n",
    "        M = self.curve.add(C, (W[0], inv(W[1], self.curve.p)))\n",
    "        return M"
   ]
  },
  {
   "cell_type": "code",
   "execution_count": null,
   "metadata": {},
   "outputs": [
    {
     "name": "stdout",
     "output_type": "stream",
     "text": [
      "beta = 6292296390847819873472920194228056694305816654900896623984775991780269331280\n",
      "v = (61932790441964176691414102555355973299451383869990383141579608837082699355761, 19252305924548217982430211133306194015857335949220738440168944774906223761674)\n",
      "c = (110148751766248041623115358695953623861972820280156200801019909786253170355497, 13597353763826944907187929414839853239541939677448720362598275979512226090138)\n"
     ]
    }
   ],
   "source": [
    "q = 2**256 - 2**224 + 2**192 - 89188191075325690597107910205041859247 \n",
    "\n",
    "alpha = 8043\n",
    "beta = 66569451221028833605888206012592990107761917366990348285636907733675199640869\n",
    "\n",
    "M = (681515878241, 42867525214630099613645669273136473583026733865738235463867590073359574198973)\n",
    "\n",
    "curve = CurveP256()\n",
    "egP256 = ElGamal_EllipticCurve(curve, q)\n",
    "Pk, sk = egP256.G(alpha)\n",
    "\n",
    "assert((Pk, sk) == ((111799829596708300766184347484227372609212980373099566904718736416741928372155, 16113508833059441685350581980088164608160061680445658675441448021238419463670),8043))\n",
    "\n",
    "(V, C) = egP256.E(Pk, M, b = beta)\n",
    "assert((V, C) == ((67600389177367027958880505329001218911198820158050052020917398066184915452697, 15585948642504606242912978362059634695851845577015490429642291473142458963401), (85283259038181720772938993814478178376409244351401717659250632910327642310995, 42144723331063680933579200498711580440199831076940199774822685779637332671033)))\n",
    "assert(egP256.D(sk, V, C) == M)\n",
    "\n",
    "(V, C) = egP256.E(Pk, M, debug_log = True)\n",
    "assert(egP256.D(sk, V, C) == M)"
   ]
  }
 ],
 "metadata": {
  "kernelspec": {
   "display_name": "Python 3 (ipykernel)",
   "language": "python",
   "name": "python3"
  },
  "language_info": {
   "codemirror_mode": {
    "name": "ipython",
    "version": 3
   },
   "file_extension": ".py",
   "mimetype": "text/x-python",
   "name": "python",
   "nbconvert_exporter": "python",
   "pygments_lexer": "ipython3",
   "version": "3.12.1"
  }
 },
 "nbformat": 4,
 "nbformat_minor": 4
}
