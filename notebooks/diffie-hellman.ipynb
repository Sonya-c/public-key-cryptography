{
 "cells": [
  {
   "cell_type": "markdown",
   "metadata": {},
   "source": [
    "# Diffe-Hellman"
   ]
  },
  {
   "cell_type": "markdown",
   "metadata": {},
   "source": [
    "**Problema:** hay poder comunicarnos de forma simetrica para luego comunicarnos de forma asimetrica. Para ello se utiliza un protocolo de intercambio de llaves. "
   ]
  },
  {
   "cell_type": "markdown",
   "metadata": {},
   "source": [
    "## Protocolo de intercambio de llaves"
   ]
  },
  {
   "cell_type": "markdown",
   "metadata": {},
   "source": [
    "Sea $(\\mathbf{G}, \\dot)$ un grupo cícilico de orden primo $q$ generado por $g \\in \\mathbf{G}$. El elemento generador es un elemento $g$ de un grupo ciclico $(G, \\dot)$ tal que haciendo potencias $g^0, g^1, ...$ genera todos los elementos del grupo."
   ]
  },
  {
   "cell_type": "markdown",
   "metadata": {},
   "source": [
    "![diffie-hellman-key-exchange](../img/diffie-hellman-key-exchange.png)"
   ]
  },
  {
   "cell_type": "markdown",
   "metadata": {},
   "source": [
    "Tanto Alice como Bob tienen $w = g^{\\alpha \\beta}$ como secreto compartido. "
   ]
  },
  {
   "cell_type": "markdown",
   "metadata": {},
   "source": [
    "## Problema del logaritmo discreto"
   ]
  },
  {
   "cell_type": "markdown",
   "metadata": {},
   "source": [
    "El atacante tiene \n",
    "- $g$ que es publico.\n",
    "- $u = g^\\alpha$ y $v = g^\\beta$ que estan en el canal.\n",
    "- El secreto compartido es $w = g^{\\alpha \\beta}$\n",
    "- Si hacemos logarimo base $g$, podemos obtener alpha y beta. \n",
    "    $$\n",
    "    log_g(g^\\beta) = \\beta\n",
    "    $$\n",
    "\n",
    "    $$\n",
    "    log_g(u) = \\alpha\n",
    "    $$\n",
    "\n",
    "    Sin embargo, esto no es tan fácil, pues estamos trabajando con números discretos en un grupo ciclo."
   ]
  },
  {
   "cell_type": "code",
   "execution_count": 59,
   "metadata": {},
   "outputs": [],
   "source": [
    "import math\n",
    "from typing import Tuple\n"
   ]
  },
  {
   "cell_type": "code",
   "execution_count": 128,
   "metadata": {},
   "outputs": [],
   "source": [
    "def egcd(x: int, y: int) -> Tuple[int, int, int]:\n",
    "    \"\"\"Algoritmo de euclides extendido\n",
    "\n",
    "    Args:\n",
    "        x (int)\n",
    "        y (int)\n",
    "\n",
    "    Returns:\n",
    "        (r: int, s:int, t:int) tal que s*x + t*y = r = mdc(x, y)\n",
    "    \"\"\"\n",
    "    r2, r1 = (y, x) if x < y else (x, y)\n",
    "\n",
    "    s1, s2 = 1, 0\n",
    "    t1, t2 = 0, 1\n",
    "\n",
    "    while r2 != 0: \n",
    "        q = r1 // r2\n",
    "        r = r1 % r2 \n",
    "\n",
    "        r1, s1, t1, r2, s2, t2 = r2, s2, t2, r, s1 - s2*q, t1 - t2*q\n",
    "\n",
    "    return r1, s1, t1\n",
    "\n",
    "def modinv(a, b):\n",
    "\n",
    "    # El pequeño teorema de ferman \n",
    "    # Si mcd(a, p) = 1\n",
    "    # a ^ p - 1 = 1 mod p     \n",
    "    r, s, _ = egcd(a, b)\n",
    "\n",
    "    if r != 1:\n",
    "        raise Exception(\"Inverse doesn't exist\")\n",
    "    \n",
    "    return (s % b + b) % b\n"
   ]
  },
  {
   "cell_type": "code",
   "execution_count": 129,
   "metadata": {},
   "outputs": [],
   "source": [
    "class DiscreteLog:\n",
    "    \n",
    "    @staticmethod\n",
    "    def bruteForce(g: int, y: int, n: int) -> int:\n",
    "        \"\"\"Búsqueda Exaustiva.\n",
    "\n",
    "        Args:\n",
    "            g (int): generador\n",
    "            y (int): y = g^x\n",
    "            n (int): orden del grupo G\n",
    "\n",
    "        Returns:\n",
    "            int: log_g(y)\n",
    "        \"\"\"\n",
    "        x = 0\n",
    "        while pow(g, x, n) != y: \n",
    "            x += 1\n",
    "        return x\n",
    "    \n",
    "\n",
    "    @staticmethod\n",
    "    def babyStep_GigantStep(\n",
    "            g: int, \n",
    "            y: int, \n",
    "            n: int, \n",
    "            debug_log = False\n",
    "        ) -> int:\n",
    "        \n",
    "        \"\"\"Búsqueda Exaustiva \"más inteligente\" introducciendo una tabla de memoria. Se pasa en que dando y = g**x, se puede escribri x = i_x * m + j_x donde 0 <= i_x, j_x. Entonces y = g**{i_x*m}g**{j_x} con m >= raiz(n)\n",
    "\n",
    "        Args:\n",
    "            g (int): generador\n",
    "            y (int): y = g^x\n",
    "            n (int): orden del grupo G\n",
    "\n",
    "        Returns:\n",
    "            int: log_g(y)\n",
    "        \"\"\"\n",
    "        m = math.ceil(math.sqrt(n))\n",
    "        if debug_log: print(\"m = \", m)\n",
    "        \n",
    "        # T Es una tabla hash para almacenar tuplas (a, b) \\in G X Z\n",
    "        # a es usada como clave indice\n",
    "        T = {}\n",
    "\n",
    "        # Computar (g**j, j) para todo 0 <= j <= m\n",
    "        for j in range(m):\n",
    "            T[pow(g, j, n)] =  j  \n",
    "\n",
    "        b = pow(modinv(g, n), m, n)\n",
    "        \n",
    "        _y = y \n",
    "        x = None\n",
    "\n",
    "        # Computar y * (g**{-m})**i para i = 0, 1, 2, ... hasta entonces i_x con y * (g**{-m})**i_x\n",
    "        for i in range(m):\n",
    "            if _y in T.keys(): \n",
    "                x = (i * m + T[_y]) % n\n",
    "                if debug_log: print(f\"ix = {i} | jx = {T[_y]}\")\n",
    "                return x\n",
    "            \n",
    "            _y = (_y * b) % n\n",
    "        return x \n",
    "\n",
    "\n",
    "    @staticmethod\n",
    "    def pollardsRho(g: int, y: int, n: int) -> int: \n",
    "        pass"
   ]
  },
  {
   "cell_type": "code",
   "execution_count": 138,
   "metadata": {},
   "outputs": [],
   "source": [
    "assert(DiscreteLog.bruteForce(3, 57, 113) == 100), \"Caso de pre-prueba 1\"\n",
    "assert(DiscreteLog.bruteForce(13, 5732, 38629) == 23718), \"Caso de pre-prueba 2\""
   ]
  },
  {
   "cell_type": "code",
   "execution_count": 135,
   "metadata": {},
   "outputs": [],
   "source": [
    "assert(DiscreteLog.babyStep_GigantStep(3, 57, 113) == 100), \"Caso de pre-prueba 1\"\n",
    "assert(DiscreteLog.babyStep_GigantStep(13, 5732, 38629) == 23718), \"Caso de pre-prueba 2\"\n",
    "\n",
    "assert(DiscreteLog.babyStep_GigantStep(19, 1249446553, 3129553951) == 972), \"Caso de prueba 1\"\n",
    "assert(DiscreteLog.babyStep_GigantStep(19, 1998919620, 3129553951) == 666261645), \"Caso de prueba 2\"\n",
    "assert(DiscreteLog.babyStep_GigantStep(19, 1132858435, 3129553951) == 320275002), \"Caso de prueba 3\"\n",
    "assert(DiscreteLog.babyStep_GigantStep(19, 2346346458, 3129553951) == 1322464706), \"Caso de prueba 4\"\n",
    "assert(DiscreteLog.babyStep_GigantStep(19, 743603545, 3129553951) == 1644500154), \"Caso de prueba 5\""
   ]
  }
 ],
 "metadata": {
  "kernelspec": {
   "display_name": "Python 3",
   "language": "python",
   "name": "python3"
  },
  "language_info": {
   "codemirror_mode": {
    "name": "ipython",
    "version": 3
   },
   "file_extension": ".py",
   "mimetype": "text/x-python",
   "name": "python",
   "nbconvert_exporter": "python",
   "pygments_lexer": "ipython3",
   "version": "3.12.1"
  }
 },
 "nbformat": 4,
 "nbformat_minor": 2
}
