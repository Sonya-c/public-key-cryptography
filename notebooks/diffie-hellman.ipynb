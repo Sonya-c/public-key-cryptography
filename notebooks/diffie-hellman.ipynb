{
 "cells": [
  {
   "cell_type": "markdown",
   "metadata": {},
   "source": [
    "# Diffe-Hellman"
   ]
  },
  {
   "cell_type": "markdown",
   "metadata": {},
   "source": [
    "**Problema:** hay poder comunicarnos de forma simetrica para luego comunicarnos de forma asimetrica. Para ello se utiliza un protocolo de intercambio de llaves. "
   ]
  },
  {
   "cell_type": "markdown",
   "metadata": {},
   "source": [
    "## Protocolo de intercambio de llaves"
   ]
  },
  {
   "cell_type": "markdown",
   "metadata": {},
   "source": [
    "Sea $(\\mathbf{G}, \\dot)$ un grupo cícilico de orden primo $q$ generado por $g \\in \\mathbf{G}$. El elemento generador es un elemento $g$ de un grupo ciclico $(G, \\dot)$ tal que haciendo potencias $g^0, g^1, ...$ genera todos los elementos del grupo."
   ]
  },
  {
   "cell_type": "markdown",
   "metadata": {},
   "source": [
    "![diffie-hellman-key-exchange](../img/diffie-hellman-key-exchange.png)"
   ]
  },
  {
   "cell_type": "markdown",
   "metadata": {},
   "source": [
    "Tanto Alice como Bob tienen $w = g^{\\alpha \\beta}$ como secreto compartido. "
   ]
  },
  {
   "cell_type": "code",
   "execution_count": 287,
   "metadata": {},
   "outputs": [],
   "source": [
    "import math\n",
    "import random \n",
    "\n",
    "from typing import Tuple, List"
   ]
  },
  {
   "cell_type": "markdown",
   "metadata": {},
   "source": [
    "## Problema del logaritmo discreto"
   ]
  },
  {
   "cell_type": "markdown",
   "metadata": {},
   "source": [
    "El atacante tiene \n",
    "- $g$ que es publico.\n",
    "- $u = g^\\alpha$ y $v = g^\\beta$ que estan en el canal.\n",
    "- El secreto compartido es $w = g^{\\alpha \\beta}$\n",
    "- Si hacemos logarimo base $g$, podemos obtener alpha y beta. \n",
    "    $$\n",
    "    log_g(g^\\beta) = \\beta\n",
    "    $$\n",
    "\n",
    "    $$\n",
    "    log_g(u) = \\alpha\n",
    "    $$\n",
    "\n",
    "    Sin embargo, esto no es tan fácil, pues estamos trabajando con números discretos en un grupo ciclo."
   ]
  },
  {
   "cell_type": "code",
   "execution_count": 68,
   "metadata": {},
   "outputs": [],
   "source": [
    "def gcd(x: int, y: int) -> int: \n",
    "    \"\"\"Algoritmos de eculides\"\"\" \n",
    "\n",
    "    b, a = (x, y) if x < y else (y, x) \n",
    "\n",
    "    while b > 0: \n",
    "        r = a % b \n",
    "        a, b = b, r\n",
    "\n",
    "    return a \n",
    "\n",
    "\n",
    "def egcd(x: int, y: int) -> Tuple[int, int, int]:\n",
    "    \"\"\"Algoritmo de euclides extendido\n",
    "\n",
    "    Args:\n",
    "        x (int)\n",
    "        y (int)\n",
    "\n",
    "    Returns:\n",
    "        (r: int, s:int, t:int) tal que s*x + t*y = r = mdc(x, y)\n",
    "    \"\"\"\n",
    "    r2, r1 = (y, x) if x < y else (x, y)\n",
    "\n",
    "    s1, s2 = 1, 0\n",
    "    t1, t2 = 0, 1\n",
    "\n",
    "    while r2 != 0: \n",
    "        q = r1 // r2\n",
    "        r = r1 % r2 \n",
    "\n",
    "        r1, s1, t1, r2, s2, t2 = r2, s2, t2, r, s1 - s2*q, t1 - t2*q\n",
    "\n",
    "    return r1, s1, t1\n",
    "\n",
    "\n",
    "def modinv(a, b):\n",
    "\n",
    "    # El pequeño teorema de ferman \n",
    "    # Si mcd(a, p) = 1\n",
    "    # a ^ p - 1 = 1 mod p     \n",
    "    r, s, _ = egcd(a, b)\n",
    "\n",
    "    if r != 1:\n",
    "        raise Exception(\"Inverse doesn't exist\")\n",
    "    \n",
    "    return (s % b + b) % b"
   ]
  },
  {
   "cell_type": "code",
   "execution_count": 37,
   "metadata": {},
   "outputs": [],
   "source": [
    "class DiscreteLog:\n",
    "    \n",
    "    @staticmethod\n",
    "    def bruteForce(g: int, y: int, n: int) -> int:\n",
    "        \"\"\"Búsqueda Exaustiva.\n",
    "\n",
    "        Args:\n",
    "            g (int): generador\n",
    "            y (int): y = g^x\n",
    "            n (int): orden del grupo G\n",
    "\n",
    "        Returns:\n",
    "            int: log_g(y)\n",
    "        \"\"\"\n",
    "        x = 0\n",
    "        while pow(g, x, n) != y: \n",
    "            x += 1\n",
    "        return x\n",
    "    \n",
    "\n",
    "    @staticmethod\n",
    "    def babyStep_GigantStep(\n",
    "            g: int, \n",
    "            y: int, \n",
    "            n: int, \n",
    "            debug_log = False\n",
    "        ) -> int:\n",
    "        \n",
    "        \"\"\"Búsqueda Exaustiva \"más inteligente\" introducciendo una tabla de memoria. Se pasa en que dando y = g**x, se puede escribri x = i_x * m + j_x donde 0 <= i_x, j_x. Entonces y = g**{i_x*m}g**{j_x} con m >= raiz(n)\n",
    "\n",
    "        Args:\n",
    "            g (int): generador\n",
    "            y (int): y = g^x\n",
    "            n (int): orden del grupo G\n",
    "\n",
    "        Returns:\n",
    "            int: log_g(y)\n",
    "        \"\"\"\n",
    "        m = math.ceil(math.sqrt(n))\n",
    "        if debug_log: print(\"m = \", m)\n",
    "        \n",
    "        # lookup es una tabla hash para almacenar tuplas (a, b) \\in G X Z\n",
    "        # a es usada como clave indice\n",
    "        lookup = {}\n",
    "\n",
    "        # Computar (g**j, j) para todo 0 <= j <= m\n",
    "        for j in range(m):\n",
    "            lookup[pow(g, j, n)] =  j  \n",
    "\n",
    "        b = pow(g, m * (n - 2), n)\n",
    "        \n",
    "        _y = y \n",
    "        x = None\n",
    "\n",
    "        # Computar y * (g**{-m})**i para i = 0, 1, 2, ... hasta entonces i_x con y * (g**{-m})**i_x\n",
    "        for i in range(m):\n",
    "            if _y in lookup: \n",
    "                x = (i * m + lookup[_y]) % n\n",
    "                if debug_log: print(f\"ix = {i} | jx = {lookup[_y]}\")\n",
    "                return x\n",
    "            \n",
    "            _y = (_y * b) % n\n",
    "        return x \n",
    "\n",
    "\n",
    "    @staticmethod\n",
    "    def pollardsRho(g: int, y: int, n: int, m: int = 3) -> int: \n",
    "        pass \n",
    "\n",
    "    @staticmethod\n",
    "    def pohlig_hellman(g: int, y: int, m: int) -> int: \n",
    "        pass "
   ]
  },
  {
   "cell_type": "code",
   "execution_count": 4,
   "metadata": {},
   "outputs": [],
   "source": [
    "assert(DiscreteLog.bruteForce(3, 57, 113) == 100), \"Caso de pre-prueba 1\"\n",
    "assert(DiscreteLog.bruteForce(13, 5732, 38629) == 23718), \"Caso de pre-prueba 2\""
   ]
  },
  {
   "cell_type": "code",
   "execution_count": 5,
   "metadata": {},
   "outputs": [],
   "source": [
    "assert(DiscreteLog.babyStep_GigantStep(3, 57, 113) == 100), \"Caso de pre-prueba 1\"\n",
    "assert(DiscreteLog.babyStep_GigantStep(13, 5732, 38629) == 23718), \"Caso de pre-prueba 2\"\n",
    "\n",
    "assert(DiscreteLog.babyStep_GigantStep(19, 1249446553, 3129553951) == 972), \"Caso de prueba 1\"\n",
    "assert(DiscreteLog.babyStep_GigantStep(19, 1998919620, 3129553951) == 666261645), \"Caso de prueba 2\"\n",
    "assert(DiscreteLog.babyStep_GigantStep(19, 1132858435, 3129553951) == 320275002), \"Caso de prueba 3\"\n",
    "assert(DiscreteLog.babyStep_GigantStep(19, 2346346458, 3129553951) == 1322464706), \"Caso de prueba 4\"\n",
    "assert(DiscreteLog.babyStep_GigantStep(19, 743603545, 3129553951) == 1644500154), \"Caso de prueba 5\""
   ]
  },
  {
   "cell_type": "markdown",
   "metadata": {},
   "source": [
    "## ElGamal"
   ]
  },
  {
   "cell_type": "code",
   "execution_count": 443,
   "metadata": {},
   "outputs": [],
   "source": [
    "class ElGamal:\n",
    "    \n",
    "    def __init__(self, g: int, q: int) -> None:\n",
    "        self.g = g\n",
    "        self.q = q\n",
    "\n",
    "\n",
    "    def G(self) -> Tuple[int, int]:\n",
    "        a = random.randrange(2, self.q)\n",
    "        u = pow(self.g, a, self.q)\n",
    "        return u, a \n",
    "\n",
    "\n",
    "    def E(self, pk: int, m: int, b: int = None, debug_log: bool = False):\n",
    "        b = random.randrange(2, self.q) if b == None else b\n",
    "        if debug_log: print(f\"beta = {b}\")\n",
    "\n",
    "        v = pow(self.g, b, self.q)\n",
    "        if debug_log: print(f\"v = {v}\")\n",
    "\n",
    "        w = pow(pk, b, self.q) \n",
    "        c = (m * w) % self.q\n",
    "        if debug_log: print(f\"c = {c}\")\n",
    "\n",
    "        return v, c\n",
    "    \n",
    "\n",
    "    def D(self, sk: int, v: int, c: int) -> int:\n",
    "        w = pow(v, sk, self.q)\n",
    "\n",
    "        m = c * modinv(w, self.q) % self.q\n",
    "        return m "
   ]
  },
  {
   "cell_type": "code",
   "execution_count": 407,
   "metadata": {},
   "outputs": [],
   "source": [
    "def partition(m: str, chunks_size: int) -> List[int]: \n",
    "    return [int.from_bytes(bytes(m[i:i+chunks_size], 'utf-8'), 'big') for i in range(0, len(m), chunks_size)]\n",
    "\n",
    "def unpartition(c: List[int], chunks_size: int):\n",
    "    return \"\".join([ci.to_bytes(chunks_size, 'big').decode(\"utf-8\") for ci in c])"
   ]
  },
  {
   "cell_type": "code",
   "execution_count": 412,
   "metadata": {},
   "outputs": [],
   "source": [
    "m = '-Life before death.-'\n",
    "assert(unpartition(partition(m, 4), 4) == m)"
   ]
  },
  {
   "cell_type": "code",
   "execution_count": 382,
   "metadata": {},
   "outputs": [],
   "source": [
    "def process_encrypt(\n",
    "        eg: ElGamal,\n",
    "        pk: int,\n",
    "        m: int,\n",
    "        B: List[int] = None\n",
    "    ) -> None:\n",
    "\n",
    "    chunks = partition(m, 4)\n",
    "    B = [None] * len(chunks) if B == None else B \n",
    "    C = []\n",
    "\n",
    "    for i, mi in enumerate(chunks):\n",
    "        v, c = eg.E(pk, mi, B[i])\n",
    "        C.append((v, c))\n",
    "        \n",
    "    return C "
   ]
  },
  {
   "cell_type": "code",
   "execution_count": 383,
   "metadata": {},
   "outputs": [],
   "source": [
    "q = 178286657344291\n",
    "g = 10\n",
    "pk = 171079742868778\n",
    "sk = 104527065844788\n",
    "\n",
    "EG = ElGamal(g, q)\n",
    "\n",
    "m = '-Life before death.-'\n",
    "B=[ 151010711822800,\n",
    "   27870359061846,\n",
    "   88930192357307,\n",
    "   174941820195607,\n",
    "   42454896251786,\n",
    "]\n",
    "\n",
    "process_encrypt(EG, pk, m)\n",
    "assert(process_encrypt(EG, pk, m, B = B) == [\n",
    "    (156872974578213,143424279344879),\n",
    "    (159166700428188,147896452446083),\n",
    "    (157845678122136,115154487002354),\n",
    "    (51458276859436,18626216083937),\n",
    "    (105263726876730,6471583782718)\n",
    "])\n",
    "\n",
    "\n",
    "m = 'Strength before weakness'\n",
    "process_encrypt(EG, pk, m)\n",
    "\n",
    "B = [10029042278109,68057778179862,138458964750808,79568309796230,32790836980569,126532045980500]\n",
    "\n",
    "assert(process_encrypt(EG, pk, m, B=B) == [\n",
    "    (96490178512202, 68603378831044),\n",
    "    (24077891682173,169748809204785),\n",
    "    (2085753595936,147200895523904),\n",
    "    (121494880791917,100454096849250),\n",
    "    (163816235955194,98752799829277),\n",
    "    (106521625815058,31822295911609)\n",
    "])"
   ]
  },
  {
   "cell_type": "code",
   "execution_count": 441,
   "metadata": {},
   "outputs": [],
   "source": [
    "def process_decrypt(\n",
    "        eg: ElGamal,\n",
    "        sk: int,\n",
    "        C: int,\n",
    "    ) -> None:\n",
    "\n",
    "    M = []\n",
    "\n",
    "    for v, c in C:\n",
    "        mi = eg.D(sk, v, c)\n",
    "        M.append(mi)\n",
    "        \n",
    "    return unpartition(M, 4)"
   ]
  },
  {
   "cell_type": "code",
   "execution_count": 445,
   "metadata": {},
   "outputs": [
    {
     "data": {
      "text/plain": [
       "True"
      ]
     },
     "execution_count": 445,
     "metadata": {},
     "output_type": "execute_result"
    }
   ],
   "source": [
    "q = 178286657344291\n",
    "g = 10\n",
    "pk = 171079742868778\n",
    "sk = 104527065844788\n",
    "\n",
    "C = [\n",
    "    (141732539323625, 40852371919502),\n",
    "    (114606755367319, 146664193381344),\n",
    "    (75283167769359, 112522016284795),\n",
    "    (165955989847723, 45226837004872),\n",
    "    (10080996027558, 104523663523835),\n",
    "    (10165852863804, 114139926880052),\n",
    "    (55938679345729, 1303889740223)\n",
    "]\n",
    "\n",
    "EG = ElGamal(g,q)\n",
    "assert(process_decrypt(EG, sk, C) == '-Journey before destination-')"
   ]
  }
 ],
 "metadata": {
  "kernelspec": {
   "display_name": "Python 3",
   "language": "python",
   "name": "python3"
  },
  "language_info": {
   "codemirror_mode": {
    "name": "ipython",
    "version": 3
   },
   "file_extension": ".py",
   "mimetype": "text/x-python",
   "name": "python",
   "nbconvert_exporter": "python",
   "pygments_lexer": "ipython3",
   "version": "3.12.1"
  }
 },
 "nbformat": 4,
 "nbformat_minor": 2
}
